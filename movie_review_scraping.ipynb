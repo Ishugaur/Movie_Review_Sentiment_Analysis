{
 "cells": [
  {
   "cell_type": "code",
   "execution_count": 1,
   "id": "bca94727-9ad9-455d-a03e-06a16e495cbe",
   "metadata": {},
   "outputs": [
    {
     "name": "stdout",
     "output_type": "stream",
     "text": [
      "Requirement already satisfied: requests in c:\\users\\kaila\\appdata\\local\\programs\\python\\python313\\lib\\site-packages (2.32.3)\n",
      "Requirement already satisfied: pandas in c:\\users\\kaila\\appdata\\local\\programs\\python\\python313\\lib\\site-packages (2.2.3)\n",
      "Requirement already satisfied: tqdm in c:\\users\\kaila\\appdata\\local\\programs\\python\\python313\\lib\\site-packages (4.67.1)\n",
      "Requirement already satisfied: charset-normalizer<4,>=2 in c:\\users\\kaila\\appdata\\local\\programs\\python\\python313\\lib\\site-packages (from requests) (3.4.2)\n",
      "Requirement already satisfied: idna<4,>=2.5 in c:\\users\\kaila\\appdata\\local\\programs\\python\\python313\\lib\\site-packages (from requests) (3.10)\n",
      "Requirement already satisfied: urllib3<3,>=1.21.1 in c:\\users\\kaila\\appdata\\local\\programs\\python\\python313\\lib\\site-packages (from requests) (2.4.0)\n",
      "Requirement already satisfied: certifi>=2017.4.17 in c:\\users\\kaila\\appdata\\local\\programs\\python\\python313\\lib\\site-packages (from requests) (2025.4.26)\n",
      "Requirement already satisfied: numpy>=1.26.0 in c:\\users\\kaila\\appdata\\local\\programs\\python\\python313\\lib\\site-packages (from pandas) (2.1.1)\n",
      "Requirement already satisfied: python-dateutil>=2.8.2 in c:\\users\\kaila\\appdata\\local\\programs\\python\\python313\\lib\\site-packages (from pandas) (2.9.0.post0)\n",
      "Requirement already satisfied: pytz>=2020.1 in c:\\users\\kaila\\appdata\\local\\programs\\python\\python313\\lib\\site-packages (from pandas) (2025.2)\n",
      "Requirement already satisfied: tzdata>=2022.7 in c:\\users\\kaila\\appdata\\local\\programs\\python\\python313\\lib\\site-packages (from pandas) (2025.2)\n",
      "Requirement already satisfied: colorama in c:\\users\\kaila\\appdata\\local\\programs\\python\\python313\\lib\\site-packages (from tqdm) (0.4.6)\n",
      "Requirement already satisfied: six>=1.5 in c:\\users\\kaila\\appdata\\local\\programs\\python\\python313\\lib\\site-packages (from python-dateutil>=2.8.2->pandas) (1.17.0)\n",
      "Note: you may need to restart the kernel to use updated packages.\n"
     ]
    }
   ],
   "source": [
    "pip install requests pandas tqdm\n"
   ]
  },
  {
   "cell_type": "code",
   "execution_count": null,
   "id": "b53407a4-f0b8-4319-96aa-5e0e20c83966",
   "metadata": {},
   "outputs": [],
   "source": []
  },
  {
   "cell_type": "code",
   "execution_count": 4,
   "id": "98e0253b-5dfe-44e1-ba89-26db9d5e2010",
   "metadata": {},
   "outputs": [
    {
     "name": "stderr",
     "output_type": "stream",
     "text": [
      "Fetching movie list: 100%|███████████████████████████████████████████████████████████| 200/200 [03:17<00:00,  1.01it/s]\n"
     ]
    },
    {
     "name": "stdout",
     "output_type": "stream",
     "text": [
      "\n",
      "Total movies fetched: 4000\n"
     ]
    },
    {
     "name": "stderr",
     "output_type": "stream",
     "text": [
      "Scraping reviews: 100%|██████████████████████████████████████████████████████████| 4000/4000 [1:18:18<00:00,  1.17s/it]\n"
     ]
    },
    {
     "name": "stdout",
     "output_type": "stream",
     "text": [
      "\n",
      "✅ Collected 8359 unique reviews and saved to 'tmdb_reviews_dataset.csv'\n"
     ]
    }
   ],
   "source": [
    "import requests\n",
    "import pandas as pd\n",
    "from tqdm import tqdm\n",
    "import time\n",
    "\n",
    "API_KEY = '35250d55ae36d4d2136a5c928021acc1'\n",
    "\n",
    "# Get a list of popular movies (multiple pages)\n",
    "def get_popular_movies(api_key, total_pages=100):\n",
    "    movies = []\n",
    "    for page in tqdm(range(1, total_pages + 1), desc=\"Fetching movie list\"):\n",
    "        url = f'https://api.themoviedb.org/3/movie/popular'\n",
    "        params = {'api_key': api_key, 'language': 'en-US', 'page': page}\n",
    "        response = requests.get(url, params=params)\n",
    "        if response.status_code != 200:\n",
    "            break\n",
    "        data = response.json()\n",
    "        for movie in data['results']:\n",
    "            movies.append((movie['id'], movie['title']))\n",
    "        time.sleep(0.2)  # Be kind to the API\n",
    "    return movies\n",
    "\n",
    "# Get reviews for a single movie\n",
    "def get_reviews(movie_id, api_key, max_pages=5):\n",
    "    reviews = []\n",
    "    for page in range(1, max_pages + 1):\n",
    "        url = f'https://api.themoviedb.org/3/movie/{movie_id}/reviews'\n",
    "        params = {'api_key': api_key, 'language': 'en-US', 'page': page}\n",
    "        response = requests.get(url, params=params)\n",
    "        if response.status_code != 200:\n",
    "            break\n",
    "        data = response.json()\n",
    "        if not data.get('results'):\n",
    "            break\n",
    "        for r in data['results']:\n",
    "            reviews.append({\n",
    "                'movie_id': movie_id,\n",
    "                'author': r['author'],\n",
    "                'review': r['content'],\n",
    "                'rating': r['author_details'].get('rating'),\n",
    "            })\n",
    "        time.sleep(0.2)\n",
    "    return reviews\n",
    "\n",
    "# Main script to scrape ~50,000 reviews\n",
    "all_reviews = []\n",
    "max_reviews = 50000\n",
    "movies = get_popular_movies(API_KEY, total_pages=200)\n",
    "\n",
    "print(f\"\\nTotal movies fetched: {len(movies)}\")\n",
    "\n",
    "for movie_id, title in tqdm(movies, desc=\"Scraping reviews\"):\n",
    "    reviews = get_reviews(movie_id, API_KEY, max_pages=10)\n",
    "    for r in reviews:\n",
    "        r['movie_title'] = title\n",
    "    all_reviews.extend(reviews)\n",
    "    if len(all_reviews) >= max_reviews:\n",
    "        break\n",
    "\n",
    "# Save dataset\n",
    "df = pd.DataFrame(all_reviews)\n",
    "df.drop_duplicates(subset='review', inplace=True)\n",
    "df.to_csv('tmdb_reviews_dataset.csv', index=False)\n",
    "\n",
    "print(f\"\\n✅ Collected {len(df)} unique reviews and saved to 'tmdb_reviews_dataset.csv'\")\n"
   ]
  },
  {
   "cell_type": "code",
   "execution_count": null,
   "id": "8528174b-5124-4ba5-bb35-3b730966c273",
   "metadata": {},
   "outputs": [],
   "source": []
  },
  {
   "cell_type": "code",
   "execution_count": null,
   "id": "9a17cab4-4efa-4ba0-8d9a-4b7e2b44e991",
   "metadata": {},
   "outputs": [],
   "source": []
  },
  {
   "cell_type": "code",
   "execution_count": 1,
   "id": "f30b6da8-d61c-469e-abee-145db8c3a1da",
   "metadata": {},
   "outputs": [
    {
     "name": "stderr",
     "output_type": "stream",
     "text": [
      "Discovering movies: 100%|████████████████████████████████████████████████████████████| 300/300 [03:26<00:00,  1.45it/s]\n",
      "Fetching popular movies: 100%|███████████████████████████████████████████████████████| 100/100 [00:56<00:00,  1.78it/s]\n"
     ]
    },
    {
     "name": "stdout",
     "output_type": "stream",
     "text": [
      "\n",
      "🎬 Total unique movies found: 6564\n"
     ]
    },
    {
     "name": "stderr",
     "output_type": "stream",
     "text": [
      "Scraping reviews:  13%|███████▍                                                   | 833/6564 [12:06<1:25:04,  1.12it/s]"
     ]
    },
    {
     "name": "stdout",
     "output_type": "stream",
     "text": [
      "\n",
      "💾 Saved intermediate file: 1991 reviews\n"
     ]
    },
    {
     "name": "stderr",
     "output_type": "stream",
     "text": [
      "Scraping reviews:  27%|███████████████▍                                          | 1743/6564 [25:29<1:11:55,  1.12it/s]"
     ]
    },
    {
     "name": "stdout",
     "output_type": "stream",
     "text": [
      "\n",
      "💾 Saved intermediate file: 3980 reviews\n"
     ]
    },
    {
     "name": "stderr",
     "output_type": "stream",
     "text": [
      "Scraping reviews:  40%|███████████████████████▉                                    | 2620/6564 [38:15<57:08,  1.15it/s]"
     ]
    },
    {
     "name": "stdout",
     "output_type": "stream",
     "text": [
      "\n",
      "💾 Saved intermediate file: 5959 reviews\n"
     ]
    },
    {
     "name": "stderr",
     "output_type": "stream",
     "text": [
      "Scraping reviews:  53%|██████████████████████████████▉                           | 3496/6564 [50:50<1:04:11,  1.26s/it]"
     ]
    },
    {
     "name": "stdout",
     "output_type": "stream",
     "text": [
      "\n",
      "💾 Saved intermediate file: 7957 reviews\n"
     ]
    },
    {
     "name": "stderr",
     "output_type": "stream",
     "text": [
      "Scraping reviews:  66%|██████████████████████████████████████▎                   | 4342/6564 [1:03:09<35:18,  1.05it/s]"
     ]
    },
    {
     "name": "stdout",
     "output_type": "stream",
     "text": [
      "\n",
      "💾 Saved intermediate file: 9927 reviews\n"
     ]
    },
    {
     "name": "stderr",
     "output_type": "stream",
     "text": [
      "Scraping reviews:  80%|██████████████████████████████████████████████▍           | 5255/6564 [1:16:30<19:02,  1.15it/s]"
     ]
    },
    {
     "name": "stdout",
     "output_type": "stream",
     "text": [
      "\n",
      "💾 Saved intermediate file: 11908 reviews\n"
     ]
    },
    {
     "name": "stderr",
     "output_type": "stream",
     "text": [
      "Scraping reviews:  94%|██████████████████████████████████████████████████████▏   | 6138/6564 [1:29:30<07:34,  1.07s/it]"
     ]
    },
    {
     "name": "stdout",
     "output_type": "stream",
     "text": [
      "\n",
      "💾 Saved intermediate file: 13893 reviews\n"
     ]
    },
    {
     "name": "stderr",
     "output_type": "stream",
     "text": [
      "Scraping reviews: 100%|██████████████████████████████████████████████████████████| 6564/6564 [1:35:33<00:00,  1.14it/s]\n"
     ]
    },
    {
     "name": "stdout",
     "output_type": "stream",
     "text": [
      "\n",
      "✅ Collected 14864 unique reviews and saved to 'tmdb_reviews_dataset2.csv'\n"
     ]
    }
   ],
   "source": [
    "import requests\n",
    "import pandas as pd\n",
    "from tqdm import tqdm\n",
    "import time\n",
    "import os\n",
    "\n",
    "API_KEY = '35250d55ae36d4d2136a5c928021acc1'\n",
    "\n",
    "# ------------------------- MOVIE FETCHING -------------------------\n",
    "def get_discover_movies(api_key, total_pages=300):\n",
    "    movies = set()\n",
    "    for page in tqdm(range(1, total_pages + 1), desc=\"Discovering movies\"):\n",
    "        url = 'https://api.themoviedb.org/3/discover/movie'\n",
    "        params = {\n",
    "            'api_key': api_key,\n",
    "            'language': 'en-US',\n",
    "            'sort_by': 'vote_count.desc',\n",
    "            'vote_count.gte': 50,\n",
    "            'page': page\n",
    "        }\n",
    "        response = requests.get(url, params=params)\n",
    "        if response.status_code != 200:\n",
    "            break\n",
    "        data = response.json()\n",
    "        for movie in data['results']:\n",
    "            movies.add((movie['id'], movie['title']))\n",
    "        time.sleep(0.1)\n",
    "    return list(movies)\n",
    "\n",
    "def get_popular_movies(api_key, total_pages=100):\n",
    "    movies = set()\n",
    "    for page in tqdm(range(1, total_pages + 1), desc=\"Fetching popular movies\"):\n",
    "        url = 'https://api.themoviedb.org/3/movie/popular'\n",
    "        params = {\n",
    "            'api_key': api_key,\n",
    "            'language': 'en-US',\n",
    "            'page': page\n",
    "        }\n",
    "        response = requests.get(url, params=params)\n",
    "        if response.status_code != 200:\n",
    "            break\n",
    "        data = response.json()\n",
    "        for movie in data['results']:\n",
    "            movies.add((movie['id'], movie['title']))\n",
    "        time.sleep(0.1)\n",
    "    return list(movies)\n",
    "\n",
    "# ------------------------- REVIEW FETCHING -------------------------\n",
    "def get_reviews(movie_id, api_key, max_pages=20):\n",
    "    reviews = []\n",
    "    for page in range(1, max_pages + 1):\n",
    "        url = f'https://api.themoviedb.org/3/movie/{movie_id}/reviews'\n",
    "        params = {\n",
    "            'api_key': api_key,\n",
    "            'language': 'en-US',\n",
    "            'page': page\n",
    "        }\n",
    "        response = requests.get(url, params=params)\n",
    "        if response.status_code != 200:\n",
    "            break\n",
    "        data = response.json()\n",
    "        if not data.get('results'):\n",
    "            break\n",
    "        for r in data['results']:\n",
    "            reviews.append({\n",
    "                'movie_id': movie_id,\n",
    "                'author': r['author'],\n",
    "                'review': r['content'],\n",
    "                'rating': r['author_details'].get('rating'),\n",
    "            })\n",
    "        time.sleep(0.1)\n",
    "    return reviews\n",
    "\n",
    "# ------------------------- MAIN SCRAPER -------------------------\n",
    "def scrape_reviews(api_key, max_reviews=60000, save_every=2000):\n",
    "    # Combine movies from multiple sources\n",
    "    discover = get_discover_movies(api_key, total_pages=300)\n",
    "    popular = get_popular_movies(api_key, total_pages=100)\n",
    "    all_movies = list(set(discover + popular))\n",
    "\n",
    "    print(f\"\\n🎬 Total unique movies found: {len(all_movies)}\")\n",
    "\n",
    "    all_reviews = []\n",
    "    processed_movies = 0\n",
    "\n",
    "    for movie_id, title in tqdm(all_movies, desc=\"Scraping reviews\"):\n",
    "        reviews = get_reviews(movie_id, api_key, max_pages=20)\n",
    "        for r in reviews:\n",
    "            r['movie_title'] = title\n",
    "        all_reviews.extend(reviews)\n",
    "        processed_movies += 1\n",
    "\n",
    "        # Save progress every few thousand reviews\n",
    "        if len(all_reviews) >= save_every and len(all_reviews) % save_every < len(reviews):\n",
    "            df = pd.DataFrame(all_reviews)\n",
    "            df.drop_duplicates(subset='review', inplace=True)\n",
    "            df.to_csv(f'tmdb_reviews_partial_{len(df)}.csv', index=False)\n",
    "            print(f\"\\n💾 Saved intermediate file: {len(df)} reviews\")\n",
    "\n",
    "        # Stop if max reached\n",
    "        if len(all_reviews) >= max_reviews:\n",
    "            break\n",
    "\n",
    "    # Final save\n",
    "    df = pd.DataFrame(all_reviews)\n",
    "    df.drop_duplicates(subset='review', inplace=True)\n",
    "    df.to_csv('tmdb_reviews_dataset2.csv', index=False)\n",
    "\n",
    "    print(f\"\\n✅ Collected {len(df)} unique reviews and saved to 'tmdb_reviews_dataset2.csv'\")\n",
    "\n",
    "# ------------------------- RUN SCRIPT -------------------------\n",
    "if __name__ == '__main__':\n",
    "    scrape_reviews(API_KEY, max_reviews=60000, save_every=2000)\n"
   ]
  },
  {
   "cell_type": "code",
   "execution_count": null,
   "id": "af8fd071-623a-422b-a98a-ddcf439cf7f2",
   "metadata": {},
   "outputs": [],
   "source": []
  },
  {
   "cell_type": "code",
   "execution_count": 2,
   "id": "3bd4381b-32ef-4f17-adf6-d91d01a8ba8a",
   "metadata": {},
   "outputs": [
    {
     "data": {
      "text/html": [
       "<div>\n",
       "<style scoped>\n",
       "    .dataframe tbody tr th:only-of-type {\n",
       "        vertical-align: middle;\n",
       "    }\n",
       "\n",
       "    .dataframe tbody tr th {\n",
       "        vertical-align: top;\n",
       "    }\n",
       "\n",
       "    .dataframe thead th {\n",
       "        text-align: right;\n",
       "    }\n",
       "</style>\n",
       "<table border=\"1\" class=\"dataframe\">\n",
       "  <thead>\n",
       "    <tr style=\"text-align: right;\">\n",
       "      <th></th>\n",
       "      <th>movie_id</th>\n",
       "      <th>author</th>\n",
       "      <th>review</th>\n",
       "      <th>rating</th>\n",
       "      <th>movie_title</th>\n",
       "    </tr>\n",
       "  </thead>\n",
       "  <tbody>\n",
       "    <tr>\n",
       "      <th>0</th>\n",
       "      <td>8452</td>\n",
       "      <td>John Chard</td>\n",
       "      <td>If you really believe that then you should clo...</td>\n",
       "      <td>6.5</td>\n",
       "      <td>The 6th Day</td>\n",
       "    </tr>\n",
       "    <tr>\n",
       "      <th>1</th>\n",
       "      <td>8452</td>\n",
       "      <td>Gimly</td>\n",
       "      <td>_The 6th Day_ is a **great** title for a movie...</td>\n",
       "      <td>6.0</td>\n",
       "      <td>The 6th Day</td>\n",
       "    </tr>\n",
       "    <tr>\n",
       "      <th>2</th>\n",
       "      <td>17578</td>\n",
       "      <td>ohlalipop</td>\n",
       "      <td>The animation was something else. It looked so...</td>\n",
       "      <td>10.0</td>\n",
       "      <td>The Adventures of Tintin</td>\n",
       "    </tr>\n",
       "    <tr>\n",
       "      <th>3</th>\n",
       "      <td>17578</td>\n",
       "      <td>lmao7</td>\n",
       "      <td>Wow…they just took cg/motion/performance captu...</td>\n",
       "      <td>9.0</td>\n",
       "      <td>The Adventures of Tintin</td>\n",
       "    </tr>\n",
       "    <tr>\n",
       "      <th>4</th>\n",
       "      <td>351460</td>\n",
       "      <td>.</td>\n",
       "      <td>_Death Note_ - _★★★★_\\r\\n\\r\\nWhile different f...</td>\n",
       "      <td>8.0</td>\n",
       "      <td>Death Note</td>\n",
       "    </tr>\n",
       "  </tbody>\n",
       "</table>\n",
       "</div>"
      ],
      "text/plain": [
       "   movie_id      author                                             review  rating               movie_title\n",
       "0      8452  John Chard  If you really believe that then you should clo...     6.5               The 6th Day\n",
       "1      8452       Gimly  _The 6th Day_ is a **great** title for a movie...     6.0               The 6th Day\n",
       "2     17578   ohlalipop  The animation was something else. It looked so...    10.0  The Adventures of Tintin\n",
       "3     17578       lmao7  Wow…they just took cg/motion/performance captu...     9.0  The Adventures of Tintin\n",
       "4    351460           .  _Death Note_ - _★★★★_\\r\\n\\r\\nWhile different f...     8.0                Death Note"
      ]
     },
     "execution_count": 2,
     "metadata": {},
     "output_type": "execute_result"
    }
   ],
   "source": [
    "import pandas as pd \n",
    "df2=pd.read_csv(\"tmdb_reviews_dataset2.csv\") \n",
    "df2.head()"
   ]
  },
  {
   "cell_type": "code",
   "execution_count": 5,
   "id": "fedf36bb-7740-4fe8-901a-67d0063434af",
   "metadata": {},
   "outputs": [
    {
     "data": {
      "text/plain": [
       "4644"
      ]
     },
     "execution_count": 5,
     "metadata": {},
     "output_type": "execute_result"
    }
   ],
   "source": [
    "len(df2['movie_title'].unique())"
   ]
  },
  {
   "cell_type": "code",
   "execution_count": null,
   "id": "82c33f92-a433-43bc-9d47-a901adb522d0",
   "metadata": {},
   "outputs": [],
   "source": []
  },
  {
   "cell_type": "code",
   "execution_count": null,
   "id": "2c4097d5-e6f6-4da2-8057-67f46b3b9b49",
   "metadata": {},
   "outputs": [],
   "source": []
  },
  {
   "cell_type": "code",
   "execution_count": null,
   "id": "6c437270-96b3-4ac1-befa-849de89374b8",
   "metadata": {},
   "outputs": [],
   "source": []
  },
  {
   "cell_type": "code",
   "execution_count": null,
   "id": "51d9a6e1-0231-4e6a-8624-0f1c0831dc18",
   "metadata": {},
   "outputs": [],
   "source": []
  },
  {
   "cell_type": "code",
   "execution_count": null,
   "id": "b7dbd25f-8cf0-442f-81d8-a30394ba2ff0",
   "metadata": {},
   "outputs": [],
   "source": []
  },
  {
   "cell_type": "code",
   "execution_count": 5,
   "id": "6d9c46b7-8e61-4ba5-978b-ea24c0c11cdd",
   "metadata": {},
   "outputs": [],
   "source": [
    "import pandas as pd \n",
    "df=pd.read_csv(\"tmdb_reviews_dataset.csv\") \n"
   ]
  },
  {
   "cell_type": "code",
   "execution_count": 6,
   "id": "b4332a02-3d9c-4019-a6da-9260ec816b53",
   "metadata": {},
   "outputs": [
    {
     "data": {
      "text/plain": [
       "(8359, 5)"
      ]
     },
     "execution_count": 6,
     "metadata": {},
     "output_type": "execute_result"
    }
   ],
   "source": [
    "df.shape"
   ]
  },
  {
   "cell_type": "code",
   "execution_count": 7,
   "id": "b1be06ed-b036-4183-bf86-b07dc61da6f9",
   "metadata": {},
   "outputs": [
    {
     "data": {
      "text/html": [
       "<div>\n",
       "<style scoped>\n",
       "    .dataframe tbody tr th:only-of-type {\n",
       "        vertical-align: middle;\n",
       "    }\n",
       "\n",
       "    .dataframe tbody tr th {\n",
       "        vertical-align: top;\n",
       "    }\n",
       "\n",
       "    .dataframe thead th {\n",
       "        text-align: right;\n",
       "    }\n",
       "</style>\n",
       "<table border=\"1\" class=\"dataframe\">\n",
       "  <thead>\n",
       "    <tr style=\"text-align: right;\">\n",
       "      <th></th>\n",
       "      <th>movie_id</th>\n",
       "      <th>author</th>\n",
       "      <th>review</th>\n",
       "      <th>rating</th>\n",
       "      <th>movie_title</th>\n",
       "    </tr>\n",
       "  </thead>\n",
       "  <tbody>\n",
       "    <tr>\n",
       "      <th>0</th>\n",
       "      <td>1241436</td>\n",
       "      <td>CinemaSerf</td>\n",
       "      <td>A squad of American soldiers seemingly randoml...</td>\n",
       "      <td>7.0</td>\n",
       "      <td>Warfare</td>\n",
       "    </tr>\n",
       "    <tr>\n",
       "      <th>1</th>\n",
       "      <td>1241436</td>\n",
       "      <td>r96sk</td>\n",
       "      <td>&lt;em&gt;'Warfare'&lt;/em&gt; ends up as expected: bleak ...</td>\n",
       "      <td>8.0</td>\n",
       "      <td>Warfare</td>\n",
       "    </tr>\n",
       "    <tr>\n",
       "      <th>2</th>\n",
       "      <td>1241436</td>\n",
       "      <td>MovieGuys</td>\n",
       "      <td>\"Warfare\" is as a simple statement on the real...</td>\n",
       "      <td>7.0</td>\n",
       "      <td>Warfare</td>\n",
       "    </tr>\n",
       "    <tr>\n",
       "      <th>3</th>\n",
       "      <td>1241436</td>\n",
       "      <td>Manuel São Bento</td>\n",
       "      <td>FULL SPOILER-FREE REVIEW @ https://movieswetex...</td>\n",
       "      <td>7.0</td>\n",
       "      <td>Warfare</td>\n",
       "    </tr>\n",
       "    <tr>\n",
       "      <th>4</th>\n",
       "      <td>950387</td>\n",
       "      <td>tmdb98094809</td>\n",
       "      <td>Alright, buckle up, because I just saw a movie...</td>\n",
       "      <td>10.0</td>\n",
       "      <td>A Minecraft Movie</td>\n",
       "    </tr>\n",
       "  </tbody>\n",
       "</table>\n",
       "</div>"
      ],
      "text/plain": [
       "   movie_id            author  \\\n",
       "0   1241436        CinemaSerf   \n",
       "1   1241436             r96sk   \n",
       "2   1241436         MovieGuys   \n",
       "3   1241436  Manuel São Bento   \n",
       "4    950387      tmdb98094809   \n",
       "\n",
       "                                              review  rating  \\\n",
       "0  A squad of American soldiers seemingly randoml...     7.0   \n",
       "1  <em>'Warfare'</em> ends up as expected: bleak ...     8.0   \n",
       "2  \"Warfare\" is as a simple statement on the real...     7.0   \n",
       "3  FULL SPOILER-FREE REVIEW @ https://movieswetex...     7.0   \n",
       "4  Alright, buckle up, because I just saw a movie...    10.0   \n",
       "\n",
       "         movie_title  \n",
       "0            Warfare  \n",
       "1            Warfare  \n",
       "2            Warfare  \n",
       "3            Warfare  \n",
       "4  A Minecraft Movie  "
      ]
     },
     "execution_count": 7,
     "metadata": {},
     "output_type": "execute_result"
    }
   ],
   "source": [
    "df.head()"
   ]
  },
  {
   "cell_type": "code",
   "execution_count": 10,
   "id": "49ad891c-73e1-424c-938c-a3f62141f774",
   "metadata": {},
   "outputs": [
    {
     "data": {
      "text/plain": [
       "movie_id\n",
       "299534     58\n",
       "324857     53\n",
       "24428      41\n",
       "76338      39\n",
       "284053     38\n",
       "           ..\n",
       "619         1\n",
       "3563        1\n",
       "10715       1\n",
       "23048       1\n",
       "1151039     1\n",
       "Name: count, Length: 2183, dtype: int64"
      ]
     },
     "execution_count": 10,
     "metadata": {},
     "output_type": "execute_result"
    }
   ],
   "source": [
    "df['movie_id'].value_counts()"
   ]
  },
  {
   "cell_type": "code",
   "execution_count": 11,
   "id": "d75b8c3b-a88e-467d-9213-3f5c8c741591",
   "metadata": {},
   "outputs": [
    {
     "data": {
      "text/html": [
       "<div>\n",
       "<style scoped>\n",
       "    .dataframe tbody tr th:only-of-type {\n",
       "        vertical-align: middle;\n",
       "    }\n",
       "\n",
       "    .dataframe tbody tr th {\n",
       "        vertical-align: top;\n",
       "    }\n",
       "\n",
       "    .dataframe thead th {\n",
       "        text-align: right;\n",
       "    }\n",
       "</style>\n",
       "<table border=\"1\" class=\"dataframe\">\n",
       "  <thead>\n",
       "    <tr style=\"text-align: right;\">\n",
       "      <th></th>\n",
       "      <th>movie_id</th>\n",
       "      <th>author</th>\n",
       "      <th>review</th>\n",
       "      <th>rating</th>\n",
       "      <th>movie_title</th>\n",
       "    </tr>\n",
       "  </thead>\n",
       "  <tbody>\n",
       "    <tr>\n",
       "      <th>0</th>\n",
       "      <td>1241436</td>\n",
       "      <td>CinemaSerf</td>\n",
       "      <td>A squad of American soldiers seemingly randoml...</td>\n",
       "      <td>7.0</td>\n",
       "      <td>Warfare</td>\n",
       "    </tr>\n",
       "    <tr>\n",
       "      <th>1</th>\n",
       "      <td>1241436</td>\n",
       "      <td>r96sk</td>\n",
       "      <td>&lt;em&gt;'Warfare'&lt;/em&gt; ends up as expected: bleak ...</td>\n",
       "      <td>8.0</td>\n",
       "      <td>Warfare</td>\n",
       "    </tr>\n",
       "    <tr>\n",
       "      <th>2</th>\n",
       "      <td>1241436</td>\n",
       "      <td>MovieGuys</td>\n",
       "      <td>\"Warfare\" is as a simple statement on the real...</td>\n",
       "      <td>7.0</td>\n",
       "      <td>Warfare</td>\n",
       "    </tr>\n",
       "    <tr>\n",
       "      <th>3</th>\n",
       "      <td>1241436</td>\n",
       "      <td>Manuel São Bento</td>\n",
       "      <td>FULL SPOILER-FREE REVIEW @ https://movieswetex...</td>\n",
       "      <td>7.0</td>\n",
       "      <td>Warfare</td>\n",
       "    </tr>\n",
       "    <tr>\n",
       "      <th>4</th>\n",
       "      <td>950387</td>\n",
       "      <td>tmdb98094809</td>\n",
       "      <td>Alright, buckle up, because I just saw a movie...</td>\n",
       "      <td>10.0</td>\n",
       "      <td>A Minecraft Movie</td>\n",
       "    </tr>\n",
       "    <tr>\n",
       "      <th>...</th>\n",
       "      <td>...</td>\n",
       "      <td>...</td>\n",
       "      <td>...</td>\n",
       "      <td>...</td>\n",
       "      <td>...</td>\n",
       "    </tr>\n",
       "    <tr>\n",
       "      <th>8354</th>\n",
       "      <td>181283</td>\n",
       "      <td>GenerationofSwine</td>\n",
       "      <td>Despite Oldman's involvement, it lacks all the...</td>\n",
       "      <td>5.0</td>\n",
       "      <td>Child 44</td>\n",
       "    </tr>\n",
       "    <tr>\n",
       "      <th>8355</th>\n",
       "      <td>77174</td>\n",
       "      <td>John Chard</td>\n",
       "      <td>Mom, tell the Zombie to stop saying stuff abou...</td>\n",
       "      <td>8.0</td>\n",
       "      <td>ParaNorman</td>\n",
       "    </tr>\n",
       "    <tr>\n",
       "      <th>8356</th>\n",
       "      <td>77174</td>\n",
       "      <td>Kamurai</td>\n",
       "      <td>Really good watch, could watch again, and can ...</td>\n",
       "      <td>7.0</td>\n",
       "      <td>ParaNorman</td>\n",
       "    </tr>\n",
       "    <tr>\n",
       "      <th>8357</th>\n",
       "      <td>77174</td>\n",
       "      <td>CinemaSerf</td>\n",
       "      <td>His parents think he's a bit bonkers, but \"Nor...</td>\n",
       "      <td>7.0</td>\n",
       "      <td>ParaNorman</td>\n",
       "    </tr>\n",
       "    <tr>\n",
       "      <th>8358</th>\n",
       "      <td>537061</td>\n",
       "      <td>Gimly</td>\n",
       "      <td>Seemed a little unusual to immediately jump ba...</td>\n",
       "      <td>6.0</td>\n",
       "      <td>Steven Universe: The Movie</td>\n",
       "    </tr>\n",
       "  </tbody>\n",
       "</table>\n",
       "<p>8359 rows × 5 columns</p>\n",
       "</div>"
      ],
      "text/plain": [
       "      movie_id             author  \\\n",
       "0      1241436         CinemaSerf   \n",
       "1      1241436              r96sk   \n",
       "2      1241436          MovieGuys   \n",
       "3      1241436   Manuel São Bento   \n",
       "4       950387       tmdb98094809   \n",
       "...        ...                ...   \n",
       "8354    181283  GenerationofSwine   \n",
       "8355     77174         John Chard   \n",
       "8356     77174            Kamurai   \n",
       "8357     77174         CinemaSerf   \n",
       "8358    537061              Gimly   \n",
       "\n",
       "                                                 review  rating  \\\n",
       "0     A squad of American soldiers seemingly randoml...     7.0   \n",
       "1     <em>'Warfare'</em> ends up as expected: bleak ...     8.0   \n",
       "2     \"Warfare\" is as a simple statement on the real...     7.0   \n",
       "3     FULL SPOILER-FREE REVIEW @ https://movieswetex...     7.0   \n",
       "4     Alright, buckle up, because I just saw a movie...    10.0   \n",
       "...                                                 ...     ...   \n",
       "8354  Despite Oldman's involvement, it lacks all the...     5.0   \n",
       "8355  Mom, tell the Zombie to stop saying stuff abou...     8.0   \n",
       "8356  Really good watch, could watch again, and can ...     7.0   \n",
       "8357  His parents think he's a bit bonkers, but \"Nor...     7.0   \n",
       "8358  Seemed a little unusual to immediately jump ba...     6.0   \n",
       "\n",
       "                     movie_title  \n",
       "0                        Warfare  \n",
       "1                        Warfare  \n",
       "2                        Warfare  \n",
       "3                        Warfare  \n",
       "4              A Minecraft Movie  \n",
       "...                          ...  \n",
       "8354                    Child 44  \n",
       "8355                  ParaNorman  \n",
       "8356                  ParaNorman  \n",
       "8357                  ParaNorman  \n",
       "8358  Steven Universe: The Movie  \n",
       "\n",
       "[8359 rows x 5 columns]"
      ]
     },
     "execution_count": 11,
     "metadata": {},
     "output_type": "execute_result"
    }
   ],
   "source": [
    "df.drop_duplicates()"
   ]
  },
  {
   "cell_type": "code",
   "execution_count": 12,
   "id": "3b08a712-a2e3-4b11-974c-6e959136f239",
   "metadata": {},
   "outputs": [
    {
     "data": {
      "text/plain": [
       "(8359, 5)"
      ]
     },
     "execution_count": 12,
     "metadata": {},
     "output_type": "execute_result"
    }
   ],
   "source": [
    "df.shape"
   ]
  },
  {
   "cell_type": "code",
   "execution_count": null,
   "id": "6523bdef-14c5-43fb-b73a-374837fa1f7f",
   "metadata": {},
   "outputs": [],
   "source": []
  },
  {
   "cell_type": "code",
   "execution_count": null,
   "id": "96616f28-59d3-4176-b5d8-f3e24fc9294e",
   "metadata": {},
   "outputs": [],
   "source": []
  },
  {
   "cell_type": "code",
   "execution_count": null,
   "id": "41f98cfc-704f-4238-a83c-911e283ee0f2",
   "metadata": {},
   "outputs": [],
   "source": []
  },
  {
   "cell_type": "code",
   "execution_count": null,
   "id": "5d8ea689-8c76-4268-a10d-184208f91a37",
   "metadata": {},
   "outputs": [],
   "source": []
  },
  {
   "cell_type": "code",
   "execution_count": null,
   "id": "fb277c99-e3c2-4273-9031-eca89f812728",
   "metadata": {},
   "outputs": [],
   "source": [
    "import os\n",
    "import csv\n",
    "import time\n",
    "import requests\n",
    "from tqdm import tqdm\n",
    "\n",
    "API_KEY = \"35250d55ae36d4d2136a5c928021acc1\"\n",
    "SAVE_FILE = \"tmdb_movie_reviews_large.csv\"\n",
    "MAX_MOVIE_PAGES = 1000    # 20 movies per page × 1000 = 20,000 movies\n",
    "MAX_REVIEW_PAGES = 10     # Max pages of reviews to fetch per movie (adjust as needed)\n",
    "\n",
    "def get_movie_ids(api_key, max_pages=MAX_MOVIE_PAGES):\n",
    "    movie_ids = []\n",
    "    for page in tqdm(range(1, max_pages + 1), desc=\"Fetching movie IDs\"):\n",
    "        url = f\"https://api.themoviedb.org/3/discover/movie\"\n",
    "        params = {\n",
    "            \"api_key\": api_key,\n",
    "            \"language\": \"en-US\",\n",
    "            \"sort_by\": \"popularity.desc\",\n",
    "            \"page\": page\n",
    "        }\n",
    "        try:\n",
    "            response = requests.get(url, params=params, timeout=10)\n",
    "            response.raise_for_status()\n",
    "            data = response.json()\n",
    "            for movie in data.get(\"results\", []):\n",
    "                movie_ids.append((movie[\"id\"], movie[\"title\"]))\n",
    "        except Exception as e:\n",
    "            print(f\"Failed to fetch movies on page {page}: {e}\")\n",
    "            time.sleep(2)\n",
    "            continue\n",
    "    return movie_ids\n",
    "\n",
    "def get_reviews(movie_id, movie_title, api_key, max_pages=MAX_REVIEW_PAGES):\n",
    "    reviews = []\n",
    "    for page in range(1, max_pages + 1):\n",
    "        url = f\"https://api.themoviedb.org/3/movie/{movie_id}/reviews\"\n",
    "        params = {\n",
    "            \"api_key\": api_key,\n",
    "            \"language\": \"en-US\",\n",
    "            \"page\": page\n",
    "        }\n",
    "        try:\n",
    "            response = requests.get(url, params=params, timeout=10)\n",
    "            response.raise_for_status()\n",
    "            data = response.json()\n",
    "            for item in data.get(\"results\", []):\n",
    "                reviews.append({\n",
    "                    \"movie_id\": movie_id,\n",
    "                    \"movie_title\": movie_title,\n",
    "                    \"author\": item[\"author\"],\n",
    "                    \"review\": item[\"content\"]\n",
    "                })\n",
    "            if page >= data.get(\"total_pages\", 1):\n",
    "                break\n",
    "        except Exception as e:\n",
    "            print(f\"Error fetching reviews for movie {movie_id}: {e}\")\n",
    "            break\n",
    "    return reviews\n",
    "\n",
    "def save_reviews_csv(reviews, file_path):\n",
    "    file_exists = os.path.isfile(file_path)\n",
    "    with open(file_path, mode=\"a\", newline=\"\", encoding=\"utf-8\") as f:\n",
    "        writer = csv.DictWriter(f, fieldnames=[\"movie_id\", \"movie_title\", \"author\", \"review\"])\n",
    "        if not file_exists:\n",
    "            writer.writeheader()\n",
    "        writer.writerows(reviews)\n",
    "\n",
    "def get_already_scraped_ids(file_path):\n",
    "    if not os.path.isfile(file_path):\n",
    "        return set()\n",
    "    scraped_ids = set()\n",
    "    with open(file_path, mode=\"r\", encoding=\"utf-8\") as f:\n",
    "        reader = csv.DictReader(f)\n",
    "        for row in reader:\n",
    "            scraped_ids.add(int(row[\"movie_id\"]))\n",
    "    return scraped_ids\n",
    "\n",
    "def main():\n",
    "    all_movies = get_movie_ids(API_KEY)\n",
    "    scraped_ids = get_already_scraped_ids(SAVE_FILE)\n",
    "\n",
    "    for movie_id, movie_title in tqdm(all_movies, desc=\"Scraping reviews\"):\n",
    "        if movie_id in scraped_ids:\n",
    "            continue\n",
    "        reviews = get_reviews(movie_id, movie_title, API_KEY)\n",
    "        if reviews:\n",
    "            save_reviews_csv(reviews, SAVE_FILE)\n",
    "        time.sleep(0.5)  # Prevent rate-limiting\n",
    "\n",
    "    print(f\"\\n✅ Scraping complete. Reviews saved to: {SAVE_FILE}\")\n",
    "\n",
    "if __name__ == \"__main__\":\n",
    "    main()\n"
   ]
  },
  {
   "cell_type": "code",
   "execution_count": null,
   "id": "6912b49b-868e-45a4-8c43-0a0d3e03e8ed",
   "metadata": {},
   "outputs": [],
   "source": []
  },
  {
   "cell_type": "code",
   "execution_count": null,
   "id": "b705efc2-8df8-464d-bac5-cf280bea0be0",
   "metadata": {},
   "outputs": [],
   "source": []
  },
  {
   "cell_type": "code",
   "execution_count": null,
   "id": "480c0983-f72e-491d-9013-90e03d6ff3cc",
   "metadata": {},
   "outputs": [],
   "source": []
  },
  {
   "cell_type": "code",
   "execution_count": null,
   "id": "56801f5c-6d84-4fbf-9b10-f2387ba105df",
   "metadata": {},
   "outputs": [],
   "source": [
    "import os\n",
    "import csv\n",
    "import requests\n",
    "from tqdm import tqdm\n",
    "from langdetect import detect\n",
    "\n",
    "API_KEY = \"35250d55ae36d4d2136a5c928021acc1\"\n",
    "MOVIE_LIST_PAGES = 500  # Up to 10,000 movies (20 movies per page)\n",
    "REVIEWS_PER_MOVIE_PAGES = 20  # Try to get max reviews per movie\n",
    "CSV_FILE_NAME = \"tmdb_english_movie_reviews.csv\"\n",
    "\n",
    "# Create the CSV file with headers if not exists\n",
    "if not os.path.exists(CSV_FILE_NAME):\n",
    "    with open(CSV_FILE_NAME, 'w', newline='', encoding='utf-8') as f:\n",
    "        writer = csv.DictWriter(f, fieldnames=[\"movie_id\", \"movie_title\", \"review_id\", \"author\", \"content\", \"created_at\"])\n",
    "        writer.writeheader()\n",
    "\n",
    "def get_movie_list(api_key, total_pages):\n",
    "    movies = []\n",
    "    for page in tqdm(range(1, total_pages + 1), desc=\"Fetching movie list\"):\n",
    "        url = f\"https://api.themoviedb.org/3/discover/movie\"\n",
    "        params = {\n",
    "            \"api_key\": api_key,\n",
    "            \"language\": \"en-US\",\n",
    "            \"sort_by\": \"popularity.desc\",\n",
    "            \"page\": page\n",
    "        }\n",
    "        response = requests.get(url, params=params)\n",
    "        if response.status_code == 200:\n",
    "            results = response.json().get(\"results\", [])\n",
    "            for movie in results:\n",
    "                movies.append((movie[\"id\"], movie[\"title\"]))\n",
    "        else:\n",
    "            break\n",
    "    return movies\n",
    "\n",
    "def get_reviews(movie_id, movie_title, api_key, max_pages):\n",
    "    reviews = []\n",
    "    for page in range(1, max_pages + 1):\n",
    "        url = f\"https://api.themoviedb.org/3/movie/{movie_id}/reviews\"\n",
    "        params = {\n",
    "            \"api_key\": api_key,\n",
    "            \"language\": \"en-US\",\n",
    "            \"page\": page\n",
    "        }\n",
    "        response = requests.get(url, params=params)\n",
    "        if response.status_code != 200:\n",
    "            break\n",
    "        data = response.json().get(\"results\", [])\n",
    "        if not data:\n",
    "            break\n",
    "        for review in data:\n",
    "            try:\n",
    "                if detect(review[\"content\"]) == \"en\":\n",
    "                    reviews.append({\n",
    "                        \"movie_id\": movie_id,\n",
    "                        \"movie_title\": movie_title,\n",
    "                        \"review_id\": review[\"id\"],\n",
    "                        \"author\": review[\"author\"],\n",
    "                        \"content\": review[\"content\"],\n",
    "                        \"created_at\": review[\"created_at\"]\n",
    "                    })\n",
    "            except:\n",
    "                continue\n",
    "    return reviews\n",
    "\n",
    "# Main scraper loop\n",
    "movies = get_movie_list(API_KEY, MOVIE_LIST_PAGES)\n",
    "\n",
    "for movie_id, movie_title in tqdm(movies, desc=\"Scraping reviews\"):\n",
    "    reviews = get_reviews(movie_id, movie_title, API_KEY, REVIEWS_PER_MOVIE_PAGES)\n",
    "    if reviews:\n",
    "        with open(CSV_FILE_NAME, mode='a', newline='', encoding='utf-8') as file:\n",
    "            writer = csv.DictWriter(file, fieldnames=[\"movie_id\", \"movie_title\", \"review_id\", \"author\", \"content\", \"created_at\"])\n",
    "            for review in reviews:\n",
    "                writer.writerow(review)\n"
   ]
  },
  {
   "cell_type": "code",
   "execution_count": null,
   "id": "86c72f13-7da0-494a-a621-e69be205ebb5",
   "metadata": {},
   "outputs": [],
   "source": []
  },
  {
   "cell_type": "code",
   "execution_count": null,
   "id": "0bd95ec2-a00e-429c-bfb1-afbd27f6698b",
   "metadata": {},
   "outputs": [],
   "source": []
  }
 ],
 "metadata": {
  "kernelspec": {
   "display_name": "Python 3 (ipykernel)",
   "language": "python",
   "name": "python3"
  },
  "language_info": {
   "codemirror_mode": {
    "name": "ipython",
    "version": 3
   },
   "file_extension": ".py",
   "mimetype": "text/x-python",
   "name": "python",
   "nbconvert_exporter": "python",
   "pygments_lexer": "ipython3",
   "version": "3.13.2"
  }
 },
 "nbformat": 4,
 "nbformat_minor": 5
}
